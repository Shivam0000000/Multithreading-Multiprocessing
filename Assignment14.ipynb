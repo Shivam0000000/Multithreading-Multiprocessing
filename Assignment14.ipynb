{
 "cells": [
  {
   "cell_type": "markdown",
   "id": "a9b1401f-1c1f-42a6-b15d-a6cf8f275c56",
   "metadata": {},
   "source": [
    "Q1. What is multithreading in python? hy is it used? Name the module used to handle threads in python"
   ]
  },
  {
   "cell_type": "code",
   "execution_count": null,
   "id": "0c18e22c-c9ac-4fc6-b51f-a9c08d016de2",
   "metadata": {},
   "outputs": [],
   "source": [
    "\"\"\"Multithreading in Python enables concurrent execution of multiple threads, \n",
    "   improving performance and utilizing CPU resources efficiently. \n",
    "   The threading module is used to handle threads in Python.\"\"\""
   ]
  },
  {
   "cell_type": "markdown",
   "id": "1b562c37-824e-4fd5-a27c-b520c66d38e6",
   "metadata": {},
   "source": [
    "Q2. Why threading module used?write the use of the following functions:\n",
    "    \n",
    "1.activeCount()\n",
    "\n",
    "2.currentThread()\n",
    "\n",
    "3.enumerate()"
   ]
  },
  {
   "cell_type": "code",
   "execution_count": null,
   "id": "7b84cd11-9b9a-4156-bd3a-85cafdc28056",
   "metadata": {},
   "outputs": [],
   "source": [
    "\"\"\"The threading module in Python is used for concurrent execution, \n",
    "   allowing multiple threads to run simultaneously, improving performance and efficiency\n",
    "   \n",
    "   \n",
    "   Here are the uses of the mentioned functions:\n",
    "     activeCount(): Returns the count of active threads in the program.\n",
    "     currentThread(): Returns the currently executing Thread object.\n",
    "     enumerate(): Returns a list of all currently alive Thread objects.\"\"\""
   ]
  },
  {
   "cell_type": "markdown",
   "id": "5ee35470-d039-47fd-8caf-d53b1284b07f",
   "metadata": {},
   "source": [
    "Q3. Explain the following functions:\n",
    "\n",
    "1.run()\n",
    "\n",
    "2.start()\n",
    "\n",
    "3.join()\n",
    "\n",
    "4.isAlive()"
   ]
  },
  {
   "cell_type": "code",
   "execution_count": null,
   "id": "dc359535-904c-4f44-aadc-582c6a83ffed",
   "metadata": {},
   "outputs": [],
   "source": [
    "\"\"\"run(): Executes the actions or tasks defined for a thread when it starts executing.\n",
    "   start(): Initiates the execution of a thread by allocating resources and scheduling it for execution.\n",
    "   join(): Waits for a thread to complete its execution before the calling thread resumes.\n",
    "   isAlive(): Checks if a thread is currently running or active, returning True if it is and False otherwise.\"\"\""
   ]
  },
  {
   "cell_type": "markdown",
   "id": "7f291fa3-3e97-47f6-9352-06b71d654b49",
   "metadata": {},
   "source": [
    "Q4. Write a python program to create two threads. Thread one must print the list of squares and thread\n",
    "two must print the list of cubes"
   ]
  },
  {
   "cell_type": "code",
   "execution_count": 9,
   "id": "a8982036-8826-4501-bd05-9a502a1e597c",
   "metadata": {},
   "outputs": [
    {
     "name": "stdout",
     "output_type": "stream",
     "text": [
      "Square of 3 is 9 Wed May 31 03:28:31 2023\n",
      "Square of 5 is 25 Wed May 31 03:28:31 2023\n",
      "Square of 2 is 4 Wed May 31 03:28:31 2023\n",
      "Square of 6 is 36 Wed May 31 03:28:31 2023\n",
      "Square of 2 is 4 Wed May 31 03:28:31 2023\n",
      "Square of 6 is 36 Wed May 31 03:28:31 2023\n",
      "Square of 7 is 49 Wed May 31 03:28:31 2023\n",
      "Cube of 3 is 27 Wed May 31 03:28:31 2023\n",
      "Cube of 5 is 125 Wed May 31 03:28:31 2023\n",
      "Cube of 2 is 8 Wed May 31 03:28:31 2023\n",
      "Cube of 6 is 216 Wed May 31 03:28:31 2023\n",
      "Cube of 2 is 8 Wed May 31 03:28:31 2023\n",
      "Cube of 6 is 216 Wed May 31 03:28:31 2023\n",
      "Cube of 7 is 343 Wed May 31 03:28:31 2023\n"
     ]
    }
   ],
   "source": [
    "import threading\n",
    "import time\n",
    "\n",
    "def squares(l):\n",
    "    for i in l:\n",
    "        print(\"Square of %d is %d %s\"%(i,i**2,time.ctime()))\n",
    "        \n",
    "    time.sleep(1)    \n",
    "    \n",
    "def cubes(l):\n",
    "    for i in l:\n",
    "        print(\"Cube of %d is %d %s\"%(i,i**3,time.ctime()))\n",
    "    time.sleep(1)\n",
    "    \n",
    "l=[3,5,2,6,2,6,7]    \n",
    "    \n",
    "ther1=[threading.Thread(target=squares,args=(l,))]    \n",
    "\n",
    "ther2=[threading.Thread(target=cubes,args=(l,))]    \n",
    "\n",
    "for t in ther1:\n",
    "    t.start()\n",
    "for t in ther2:\n",
    "    t.start()"
   ]
  },
  {
   "cell_type": "markdown",
   "id": "96a28313-934c-48bc-bf92-751d98854446",
   "metadata": {},
   "source": [
    "Q5. State advantages and disadvantages of multithreading."
   ]
  },
  {
   "cell_type": "code",
   "execution_count": null,
   "id": "2916e6b8-dc68-48de-a8ef-7a3746211b5e",
   "metadata": {},
   "outputs": [],
   "source": [
    "\"\"\"Advantages of multithreading:\n",
    "\n",
    "Improved performance by utilizing available CPU resources efficiently.\n",
    "Enhanced responsiveness as multiple tasks can be executed concurrently.\n",
    "Simplified program design for tasks that can run independently.\n",
    "\n",
    "\n",
    "Disadvantages of multithreading:\n",
    "\n",
    "Increased complexity due to potential race conditions and synchronization issues.\n",
    "Difficult to debug and reproduce issues related to thread interactions.\n",
    "Potential resource contention and overhead from thread creation and context switching. \"\"\""
   ]
  },
  {
   "cell_type": "markdown",
   "id": "f8e1c610-22c4-4598-b4bd-a71ba87cf480",
   "metadata": {},
   "source": [
    "Q6. Explain deadlocks and race conditions."
   ]
  },
  {
   "cell_type": "code",
   "execution_count": null,
   "id": "56a97bde-b494-427a-b321-ea9615b044a9",
   "metadata": {},
   "outputs": [],
   "source": [
    "\"\"\"Deadlock: A deadlock occurs when two or more threads are blocked indefinitely, \n",
    "   waiting for each other to release resources, resulting in a program's halt.\n",
    "   \n",
    "   Race condition: A race condition occurs when the behavior of a program depends \n",
    "   on the relative timing of events, leading to unpredictable and undesirable outcomes. \n",
    "   It arises when multiple threads access and modify shared data concurrently without proper synchronization.\"\"\""
   ]
  }
 ],
 "metadata": {
  "kernelspec": {
   "display_name": "Python 3 (ipykernel)",
   "language": "python",
   "name": "python3"
  },
  "language_info": {
   "codemirror_mode": {
    "name": "ipython",
    "version": 3
   },
   "file_extension": ".py",
   "mimetype": "text/x-python",
   "name": "python",
   "nbconvert_exporter": "python",
   "pygments_lexer": "ipython3",
   "version": "3.10.8"
  }
 },
 "nbformat": 4,
 "nbformat_minor": 5
}
